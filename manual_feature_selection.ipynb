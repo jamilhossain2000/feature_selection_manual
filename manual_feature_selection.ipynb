{
  "nbformat": 4,
  "nbformat_minor": 0,
  "metadata": {
    "colab": {
      "provenance": []
    },
    "kernelspec": {
      "name": "python3",
      "display_name": "Python 3"
    },
    "language_info": {
      "name": "python"
    }
  },
  "cells": [
    {
      "cell_type": "code",
      "execution_count": null,
      "metadata": {
        "id": "i6XBCBKhuVVp"
      },
      "outputs": [],
      "source": [
        "def drop_high_correlated_features(data, threshold):\n",
        "   col_corr = set() #a set used to store the names of features that are highly correlated.\n",
        "   corr_matrix = data.corr() #correlation matrix\n",
        "   for i in range(len(corr_matrix.columns)): # Iterate over rows\n",
        "       for j in range(i): # Iterate only over columns before the row value (lower triangle)\n",
        "           if abs(corr_matrix.iloc[i, j]) > threshold:\n",
        "               colname = corr_matrix.columns[i]\n",
        "               col_corr.add(colname)\n",
        "   return col_corr # return highly correlated feature"
      ]
    }
  ]
}